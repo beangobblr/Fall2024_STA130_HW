{
 "cells": [
  {
   "cell_type": "markdown",
   "id": "afc13729",
   "metadata": {},
   "source": [
    "### Question 2\n",
    "ChatBot's revised code of the Monty Hall problem is shorter and easier to read, but does leave room for confusion. Although that can be easily solved by asking ChatBot to clarify what is happening in the code. ChatBot's code doesn't use lists, tuples, indexing, try and excepts, and all the other stuff because it just does the logical calculations. In terms of readibility, ChatBot's code is a more legible and shorter by around 12 lines. However, the explainability of Prof. Schwartz's code is better because the comments accurately explain what is happening the code even though there is more variables which can offer confusion. Prof. Schwrtz's code simulates the reveal and removal of the losing door which offers more clarity compared to ChatBot's code where it assumes the removal which may be confusing.\n",
    "\n",
    "### Question 3"
   ]
  },
  {
   "cell_type": "code",
   "execution_count": 1,
   "id": "90ac9192",
   "metadata": {},
   "outputs": [
    {
     "data": {
      "text/plain": [
       "0.66764"
      ]
     },
     "execution_count": 1,
     "metadata": {},
     "output_type": "execute_result"
    }
   ],
   "source": [
    "import numpy as np\n",
    "\n",
    "reps = 100000\n",
    "i_won = 0\n",
    "\n",
    "for _ in range(reps):\n",
    "    # Randint picks a random number 1, 2, or 3 and assigns one as the winning door and one as the player's door\n",
    "    winning_door = np.random.randint(1, 4)  # 1, 2, or 3 \n",
    "    player_choice = np.random.randint(1, 4)  # 1, 2, or 3 \n",
    "    \n",
    "    # This simulates the player always switching because if the player's door is not the winning door, then we assume that they \n",
    "    # switch which leads them to win. In the case that the player's door is the winning door, we also assume they switch \n",
    "    # (since this is a switching simulator) which leads them to lose\n",
    "    if player_choice != winning_door:\n",
    "        i_won += 1 # A win is added to player's wins because we assumed they switched, which always makes them win in this simulation\n",
    "\n",
    "# Calculates the winning percentage\n",
    "i_won / reps    "
   ]
  },
  {
   "cell_type": "markdown",
   "id": "b902ecb1",
   "metadata": {},
   "source": [
    "### ChatBot Summary (Q1-3)\n",
    "(https://chatgpt.com/share/66e83e36-6c94-8002-a320-91fd72be8331)\n",
    "\n",
    "In this session, we discussed a Python code simulation of the **Monty Hall problem** and analyzed it step by step.\n",
    "\n",
    "1. **Original Code Breakdown**:  \n",
    "   - We started by breaking down the detailed steps of the original Monty Hall simulation code. The key steps involve randomly selecting a winning door, choosing a door, revealing a \"goat\" door, and implementing a switch strategy where the player always switches doors. The code checks if switching results in a win and calculates the win percentage.\n",
    "\n",
    "2. **Streamlined Version**:  \n",
    "   - I proposed a simplified version of the code that avoids explicitly simulating the host revealing a \"goat\" door. In this version, the code directly checks if the player's initial choice is incorrect, and if so, assumes switching leads to a win. This approach condenses the simulation while maintaining the core logic of always switching.\n",
    "\n",
    "3. **Specific Scenario (Winning Door = 1, Choice = 2)**:  \n",
    "   - You asked how the code works when the winning door is 1 and the player's choice is 2. I explained that in this scenario, the player switches after the host reveals a losing door, and switching will lead them to the winning door, resulting in a win.\n",
    "\n",
    "4. **Assumed \"Goat Door Reveal\" in the Code**:  \n",
    "   - We discussed how the streamlined version of the code **implicitly assumes** that the host reveals a goat door and the player switches without explicitly simulating the reveal. The logic directly checks whether switching will result in a win or loss based on the player's initial choice.\n",
    "\n",
    "This streamlined approach reduces unnecessary steps while preserving the accuracy of the Monty Hall problem simulation."
   ]
  },
  {
   "cell_type": "markdown",
   "id": "73397d11",
   "metadata": {},
   "source": [
    "### ChatBot Summary (Q5.3)\n",
    "\n",
    "(https://chatgpt.com/share/66e98a84-8c88-8002-873f-5e15e341b9f6)\n",
    "\n",
    "Here’s a summary of our interaction:\n",
    "\n",
    "1. **Markov Chain Code:**\n",
    "   - You shared a code snippet implementing a Markov chain that tracks word transitions in a text.\n",
    "   - I analyzed it, suggesting improvements such as using `defaultdict` to simplify the code and handling edge cases for short word lists.\n",
    "\n",
    "2. **Markov Chain Extension:**\n",
    "   - You extended the code to track bigrams (two-word sequences) and associate them with characters from a dataset (likely a dialogue or script). The model records transitions between bigrams and subsequent words.\n",
    "   - I explained the structure of the code, including how nested dictionaries were used to map word transitions for each character. I also suggested ways to refactor and optimize the code, such as using `defaultdict` to reduce redundant checks.\n",
    "\n",
    "3. **Example of the Code:**\n",
    "   - I provided an example based on a hypothetical dialogue dataset where characters like \"Aang,\" \"Katara,\" and \"Sokka\" have lines in a script. The example illustrated how the Markov chain would map word transitions by character, building `word_used2C` and `next_word2C` dictionaries."
   ]
  },
  {
   "cell_type": "markdown",
   "id": "7ae70b1e",
   "metadata": {},
   "source": [
    "### Question 6\n",
    "#### 6.1\n",
    "ChatBot was very helpful to clarify on any lines of code I did not understand, and was quick to understand the pieces of code I provided without additional context. For 5.1 and 5.2, it was able to understand what was going on in the inital Markov Chain code and could break it down into parts that was easier to understand. It went through each code block in steps so when I was confused on one block, I could easily refer to it by it's step number and ask for clarification. When I was confused on what '*defaultdict(lambda: defaultdict(int))*' did, ChatBot not only showed me how it's used in the context of the code I provided, but also why it's used. For 5.3, it understood the initial Markov Chain code as well as the second extension without me having to step in and give hints. It also provided some possible improvements on top of understanding everything! I had asked for an example using the pieces of code I provided and it used a snippet of the Avatar dialogue lines, which made the code easier to understand because I could now see what happens to the words.\n",
    "\n",
    "\n",
    "#### 6.2\n",
    "Interacting with ChatBot to figure out or clarify areas where I did not understand was not unhelpful at all. When I wasn't able to understand, I can have ChatBot simplify it more for me. Although the only frustrating thing was because our interaction includes code that needs to be displayed, it runs on the newer version of ChatBot so when I run out of free chats, I must restart the whole conversation in a new chat with an older version. It was also a little frustrating when it assumed I had knowledge of certain functions like enumerate(), which I had to ask for clarification later on in which it did not go too into detail. \n",
    "\n",
    "\n",
    "#### 6.3\n",
    "Overall, despite the limited chats and being unable to continue once you pass the free chat limit, ChatBot has been very useful in helping me understand pieces or even chunks of code. I was able to work with it and get answers back in a short amount of time rather than asking on Piazza and waiting for a response for who knows how long. The only downside is that it can't provide proper links most of the time or access any links so you can't ask it to help you with organizing data unless you give it sample variables. There is also times when you want a random dataset and it provides you a link but when you go to click it, it turns out it's not a link. Other than that, it's very useful in understanding pieces of code that I don't understand because it breaks it down and provides an example dataset to run through the code. \n",
    "\n",
    "### ChatBot Summary (Q4-5.2, 6)\n",
    "(https://chatgpt.com/share/66e986b4-7e18-8002-a755-8276258ac9fd)\n",
    "\n",
    "Here's a summary of our interaction:\n",
    "\n",
    "1. **Markovian Chatbot Code:**\n",
    "   - You provided code for a basic Markovian chatbot. We discussed how it builds a model by counting how often a word is followed by another word in a sequence, using two dictionaries: `word_used` (for word counts) and `next_word` (for word transitions).\n",
    "   - We explored how `enumerate()` works in this context, where it allows you to loop over the list of words and their positions to access consecutive word pairs.\n",
    "\n",
    "2. **Code Extension #1:**\n",
    "   - You shared an extension that uses **word pairs (bigrams)** instead of single words to model transitions, adding more context for predictions.\n",
    "   - This version counts how often word pairs occur (`word_used2`) and tracks the next word following each bigram (`next_word2`).\n",
    "   - We discussed how it looks at three consecutive words at a time: the current word, the next word, and the word after that.\n",
    "\n",
    "3. **Use of `defaultdict`:**\n",
    "   - We reviewed how `defaultdict(int)` and `defaultdict(lambda: defaultdict(int))` work in Python to simplify counting and initializing keys in dictionaries without having to check for their existence.\n",
    "   - This structure allows automatic initialization of counts, which streamlines the process of building and updating the word transition model.\n",
    "\n",
    "### Question 7    \n",
    "My experience with ChatBot has been fairly positive and my perception of AI-driven assistance has increased in favourability. ChatBot can be used for giving answers but in terms of coding, it is more helpful in understanding complicated lines of code, being able to break it down into understandable chunks and all. In the context of learning to code and general statistics and data science knowledge, ChatBot is helpful in simplifying daunting terms and explaining concepts like the Markov Chain, Bigrams, Trigrams, and more that I need to know when office hours aren't available. Since joining the course, I have relied on ChatBot more often as this course encourages you to, but it has made me realize what a great tool and resource it is to clear up confusion.\n",
    "\n",
    "### Question 8\n",
    "#### 8.4\n",
    "My potential future career is to become a data analyst, which is similar to a data scientist and data engineer in that you cannot skip the coding part and you'll need to learn how to use Python/R. The main tools a data analyst uses are Excel, SQL, Python/R, and Tableau (or PowerBI), which I would have to learn in that order as Excel is used as the main tool for data cleaning. Knowing the statistical concepts and terms like standard deviation and probability distributions are required for all data-related jobs, which means that it's highly likely that these jobs require at least a Bachelor's degree. To build the skills needed for this career, I need to start from the bottom up and learn how to efficiently use Excel, then I can build my way up to creating models in Python/R.\n",
    "\n",
    "#### 8.5\n",
    "ChatBot is pretty helpful in giving a summary of the tools needed for the career path I specified, as well as additional careers. Although ChatBot will have a limit on the more recent tools needed for this career because technology is always changing and so are hiring manager's expectations. There is no way for the ChatBot to know this, which is a limitation to our conversation. To pursue this conversation further, I would need to supply the ChatBot with relevant news about the job market and new apps that help with data analysis. For example, there's Julius AI which is an AI that can do data analysis. ChatBot would not know about this but it offers a possiblility that data analysts will be taken over by robots. There might also be more important statistical concepts that I would need to focus on that only a statistician can tell me because of their first-hand experience.\n",
    "\n",
    "### ChatBot Summary (Q8)\n",
    "(https://chatgpt.com/share/66e9ec19-c8c0-8002-ade2-8ceb474d515c)\n",
    "\n",
    "Here's a summary of our chat session:\n",
    "\n",
    "1. **Relevance of Key Skills in the Modern World and Data Science**:\n",
    "   - We discussed the importance of skills like **learning and adaptability, communication, coding, and statistics and data analysis** for career opportunities, especially in data science. These skills are crucial for staying relevant, communicating insights effectively, and performing technical tasks such as data manipulation and model building.\n",
    "\n",
    "2. **Becoming a Statistician or Data Scientist without Coding or Data Analysis**:\n",
    "   - I explained that becoming a statistician or data scientist without coding or performing data analysis is highly unlikely since both roles heavily rely on these skills for handling and analyzing data. While you may find related roles that require less coding, avoiding it entirely would limit your career options.\n",
    "\n",
    "3. **Skills Needed for a Data Analyst Career**:\n",
    "   - We went over the most valuable skills for a data analyst, dividing them into **hard skills** (e.g., Excel, SQL, Python, data visualization, and statistics) and **soft skills** (e.g., communication, analytical thinking, attention to detail, business acumen, and collaboration). Both types of skills are essential for excelling as a data analyst.\n",
    "\n",
    "### Question 9\n",
    "Not yet, but I will soon."
   ]
  }
 ],
 "metadata": {
  "kernelspec": {
   "display_name": "Python 3 (ipykernel)",
   "language": "python",
   "name": "python3"
  },
  "language_info": {
   "codemirror_mode": {
    "name": "ipython",
    "version": 3
   },
   "file_extension": ".py",
   "mimetype": "text/x-python",
   "name": "python",
   "nbconvert_exporter": "python",
   "pygments_lexer": "ipython3",
   "version": "3.11.6"
  }
 },
 "nbformat": 4,
 "nbformat_minor": 5
}
