{
 "cells": [
  {
   "cell_type": "markdown",
   "id": "31c5172d",
   "metadata": {},
   "source": [
    "### Topic: *The importance of social connection and community engagement -- relationships with family, friends, coworkers, neighbours, and strangers -- for personal health and well-being*"
   ]
  },
  {
   "cell_type": "markdown",
   "id": "00a5e6d3",
   "metadata": {},
   "source": [
    "### Analysis 1\n",
    "**Research Question:**\n",
    "How much of an effect does frequent positive adult reinforcement growing up have on current self-confidence?\n",
    "\n",
    "**Variables:**\n",
    "- (Quanitative Independent) *LIFECOURSE_childhood_adult_relationships_unknown_scale_proud*\n",
    "\n",
    "This variable contains quantitative data on 'how often an adult showed they were proud of me' growing up. This will tell me how validation impacts the respondents' current self-esteem. I want to know if a supportive adult figure being present in someone's life plays a role into how confident they are in themselves when they're older. Getting the data on how often an adult showed pride in the individual can hint at an increased self-worth, which may contribute to a higher self-confidence. The visualizations for this variable would include a histogram for showing the distribution of frequency values which helps in identifying common trends and variability. Getting the mode may also prove useful in quickly seeing if adults show frequent pride.\n",
    "\n",
    "- (Qualitative Dependent) *PSYCH_self_esteem_unknown_scale_high*\n",
    "\n",
    "The variable describes how true it is that 'I have high self-esteem', which correlates to the individual's self-confidence. I plan to explore this as a dependent variable which is affected by the frequency of childhood adult affirmation in the individual's life. I chose this variable to measure how the involvement of a supportive background during childhood results in a strong (or weak) present self-confidence. To visualize this variable, I would get the frequency for each answer and use a bar chart to see a comparison of how many people fall into each section, making it easier to see trend. A pie chart may also be useful for seeing the proportion of each section relative to the whole dataset. This will show how each category contributes to the overall picture of self-esteem levels.\n",
    "\n",
    "\n",
    "**Analysis To Be Performed:**\n",
    "An ordinal logistic regression would help predict the behaviour of our ordinal dependent variable considering our independent. Using the statsmodel library,  convert the dependent variable into a categorical ordered form, fit the ordinal regression model (using OrderedModel), and then interpret the results given the coefficients (and thresholds). A positive coefficient will indicate the effectiveness of adult validation on the odds of higher self-confidence. I must assume dependent variable is ordinal, no multi-collinearity (independent variables aren't highly correlated), independent observations, linearity, and proportional odds.\n",
    "\n",
    "\n",
    "**Hypothesis:** \n",
    "\n",
    "$H_0:$ The frequency of positive adult reinforcement growing up doesn't affect current self-confidence (there is no relationship between the independent and dependent variables).\n",
    "\n",
    "$H_A:$ There is an association between the frequency of positive adult affirmation growing up and current self-confidence, whether positive or negative."
   ]
  },
  {
   "cell_type": "markdown",
   "id": "3657d667",
   "metadata": {},
   "source": [
    "### Analysis 2\n",
    "**Research Question:**\n",
    "Does more social interaction equate to lower levels of loneliness but increased reliance on others for emotional fulfillment?\n",
    "\n",
    "**Variables:**\n",
    "- (Quanitative Independent) *CONNECTION_social_time_family_p7d_grouped, CONNECTION_social_time_friends_p7d_grouped, CONNECTION_social_time_neighbours_p7d_grouped, CONNECTION_social_time_coworkers_and_classmates_p7d_grouped*\n",
    "\n",
    "These variables measure the total hours spent socializing with people in the past week. I'll see if the amount of social interaction increases or decreases certain variables such as loneliness and dependency. Since I want to measure the total amount of social interaction, I'll be summing the 4 variables above (which are split into family, friends, neighbours, and coworkers or classmates) to get the total amount of interaction. I could get the mean or median amount of hours to tell me on average, how much time do the respondents spend on interacting. Using a histogram or box plot, I can see the distribution of hours spent socializing and identify any central tendencies or outliers.\n",
    "\n",
    "- (Qualitative Dependent) *LONELY_direct*\n",
    "\n",
    "Levels of loneliness is gathered from the question: 'during the past week, have you felt lonely?'. By gauging how lonely one may have felt over the past week and comparing it to how often they had social interaction, I can see if there's a possible correlation between the two and deduce that they may affect each other. I could create a frequency table to summarize the scale of how lonely each respondent felt, and gauge the amount of people who often felt lonely versus those who felt less lonely. To visualize, since it is categorical data I would use a bar chart to picture the frequency distribution. \n",
    "\n",
    "- (Qualitative Dependent) *LONELY_dejong_emotional_social_loneliness_scale_rely* \n",
    "\n",
    "This variable measures the extent at which the situation of 'there are plenty of people I can rely on when I have problems', applies to the respondent. I'm interested if having plenty of people to rely on is the result of frequent social interaction, and if those frequent interactions caused lower levels of loneliness but now higher levels of reliance in emotional situations. A pie chart may be useful in seeing the proportion of respondents who feel like they have many people to rely on versus those who don't, which can give us an idea of the audience we are working with.\n",
    "\n",
    "\n",
    "**Analysis To Be Performed:**\n",
    "The chi-square test of independence will be used to test if there's significant association between the variables by creating a 3-way contingency table, assessing whether reliance responses differ by social interaction levels, and then with loneliness levels. Setting the significance level to 0.05 and getting the p-value for each chi-square test will help me determine whether to negate or fail to negate the null hypothesis. I must assume independent observations, a minimum expected frequency of 5 in contingency table, mutually exclusive categories, and sufficient sample size.\n",
    "\n",
    "\n",
    "**Hypothesis:** \n",
    "\n",
    "$H_0:$ Social interaction does not affect loneliness or reliance on others at all\n",
    "\n",
    "$H_A:$ There is any sort of change in levels of loneliness and in the dependency of others. "
   ]
  },
  {
   "cell_type": "markdown",
   "id": "d47b07aa",
   "metadata": {},
   "source": [
    "### Analysis 3\n",
    "**Research Question:**\n",
    "How do digital interactions compared to in-person interactions affect an individuals' perceptions of feeling heard?\n",
    "\n",
    "**Variables:**\n",
    "- (Quanitative Independent) *CONNECTION_activities_chat_p3m*\n",
    "\n",
    "This measures how often in the past 3 months has the respondent had long conversations via text. This represents the digital interactions portion in my research question which I can use to explore how well the digital world makes the respondent feel connected. A bar chart would be used to display the frequency of responses and allows me to gauge how often the respondent is involved in the digital world.  \n",
    "\n",
    "- (Quanitative Independent) *CONNECTION_activities_chat_p3m*\n",
    "\n",
    "Similar to the previous variable, but now it's how often has the respondent had an in-person, face-to-face conversation with someone. This represents the in-person interactions portion of my research question which'll tell me how often the individual has conversations with real people in the real world. Since this is similar to the last variable, I would also use a bar chart for the same reason; to visualize the frequency of how often the respondent puts themself out there to talk in-person.\n",
    "\n",
    "- (Qualitative Dependent) *LONELY_others_aware*\n",
    "\n",
    "This variable provides data on the question 'generally speaking, do you think others are aware of the extent to which you feel lonely or connected?'. I chose this variable because for people to be aware of how lonely you are or how you feel, you must tell someone or they must be able to tell from your actions. The only way for this to happen is through interaction so I wanted to explore the correlation of digital interactions versus in-person interactions towards the respondent's perception of feeling heard. A pie chart might suggest how many respondents out of everyone who responded feel heard, or a bar chart may show the frequency of those who feel more heard than others. This helps show in general how many people are connected to at least someone.\n",
    "\n",
    "\n",
    "**Analysis To Be Performed:**\n",
    "Similar to analysis 1, I'd use ordinal regression since *LONELY_others_aware* would be ordinally categorized as Yes, Maybe, No. Again, I would import statsmodel, convert the dependent into an ordered categorical type, fit the regression model, and interpret the coefficient. I would do this with digital vs loneliness and then in-person vs loneliness and see which has the greater coefficient to deduce which has the greater effect. I must assume dependent variable is ordinal, no multi-collinearity, independent observations, linearity, and proportional odds.\n",
    "\n",
    "\n",
    "**Hypothesis:**\n",
    "\n",
    "$H_0:$ Neither digital interactions nor in-person interactions affect an individuals' perception of feeling heard at all\n",
    "\n",
    "$H_A:$ Digital or in-person interactions affect an individuals' perception of feeling heard even in the slightest, doesn't matter if it's towards digital or in-person"
   ]
  }
 ],
 "metadata": {
  "kernelspec": {
   "display_name": "Python 3 (ipykernel)",
   "language": "python",
   "name": "python3"
  },
  "language_info": {
   "codemirror_mode": {
    "name": "ipython",
    "version": 3
   },
   "file_extension": ".py",
   "mimetype": "text/x-python",
   "name": "python",
   "nbconvert_exporter": "python",
   "pygments_lexer": "ipython3",
   "version": "3.11.6"
  }
 },
 "nbformat": 4,
 "nbformat_minor": 5
}
